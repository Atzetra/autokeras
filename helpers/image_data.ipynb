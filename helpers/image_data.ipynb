{
 "cells": [
  {
   "cell_type": "code",
   "execution_count": 1,
   "metadata": {},
   "outputs": [],
   "source": [
    "import tifffile as tiff\n",
    "import numpy as np"
   ]
  },
  {
   "cell_type": "code",
   "execution_count": 2,
   "metadata": {},
   "outputs": [],
   "source": [
    "img = tiff.imread('../.data/2019.02/rgb_nir/rgb_nir.tif')"
   ]
  },
  {
   "cell_type": "code",
   "execution_count": 3,
   "metadata": {},
   "outputs": [],
   "source": [
    "block_size = 1024\n",
    "overlap = 0.25 * block_size\n",
    "\n",
    "orig_shape = img.shape "
   ]
  },
  {
   "cell_type": "code",
   "execution_count": 4,
   "metadata": {},
   "outputs": [],
   "source": [
    "n_blocks_x = int(np.ceil(img.shape[1] / overlap)) \n",
    "n_blocks_y = int(np.ceil(img.shape[0] / overlap))"
   ]
  },
  {
   "cell_type": "code",
   "execution_count": 6,
   "metadata": {},
   "outputs": [
    {
     "name": "stderr",
     "output_type": "stream",
     "text": [
      "/tmp/ipykernel_8651/3795943403.py:9: DeprecationWarning: <tifffile.imsave> is deprecated. Use tifffile.imwrite\n",
      "  tiff.imsave(f'../.data/2019.02/rgb_nir/blocks/block_{i}_{j}.tif', block)\n"
     ]
    }
   ],
   "source": [
    "for i in range(n_blocks_y):\n",
    "    for j in range(n_blocks_x):\n",
    "        x1 = int(j*overlap)  \n",
    "        x2 = int(min(x1 + block_size, img.shape[1]))\n",
    "        y1 = int(i*overlap)\n",
    "        y2 = int(min(y1 + block_size, img.shape[0]))\n",
    "        \n",
    "        block = img[y1:y2, x1:x2, :]\n",
    "        tiff.imwrite(f'../.data/2019.02/rgb_nir/blocks/block_{i}_{j}.tif', block)"
   ]
  },
  {
   "cell_type": "code",
   "execution_count": 7,
   "metadata": {},
   "outputs": [],
   "source": [
    "img_label = tiff.imread('../.data/label.tif')"
   ]
  },
  {
   "cell_type": "code",
   "execution_count": 8,
   "metadata": {},
   "outputs": [
    {
     "data": {
      "text/plain": [
       "(20982, 20982)"
      ]
     },
     "execution_count": 8,
     "metadata": {},
     "output_type": "execute_result"
    }
   ],
   "source": [
    "img_label.shape"
   ]
  },
  {
   "cell_type": "code",
   "execution_count": 9,
   "metadata": {},
   "outputs": [
    {
     "data": {
      "text/plain": [
       "(20982, 20982, 4)"
      ]
     },
     "execution_count": 9,
     "metadata": {},
     "output_type": "execute_result"
    }
   ],
   "source": [
    "img.shape"
   ]
  },
  {
   "cell_type": "code",
   "execution_count": 13,
   "metadata": {},
   "outputs": [],
   "source": [
    "for i in range(n_blocks_y):\n",
    "    for j in range(n_blocks_x):\n",
    "        x1 = int(j*overlap)  \n",
    "        x2 = int(min(x1 + block_size, img_label.shape[1]))\n",
    "        y1 = int(i*overlap)\n",
    "        y2 = int(min(y1 + block_size, img_label.shape[0]))\n",
    "        \n",
    "        block = img_label[y1:y2, x1:x2]\n",
    "        tiff.imwrite(f'../.data/label_img/block_{i}_{j}.tif', block)"
   ]
  }
 ],
 "metadata": {
  "kernelspec": {
   "display_name": "autokeras",
   "language": "python",
   "name": "python3"
  },
  "language_info": {
   "codemirror_mode": {
    "name": "ipython",
    "version": 3
   },
   "file_extension": ".py",
   "mimetype": "text/x-python",
   "name": "python",
   "nbconvert_exporter": "python",
   "pygments_lexer": "ipython3",
   "version": "3.11.6"
  }
 },
 "nbformat": 4,
 "nbformat_minor": 2
}
